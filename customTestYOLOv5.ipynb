{
 "cells": [
  {
   "cell_type": "markdown",
   "id": "a851944d-804e-46f8-a80a-40edf31e4cd0",
   "metadata": {},
   "source": [
    "# 0. import modules"
   ]
  },
  {
   "cell_type": "code",
   "execution_count": null,
   "id": "3aa42045-406b-4e44-9260-580daf318ff5",
   "metadata": {
    "tags": []
   },
   "outputs": [],
   "source": [
    "import torch\n",
    "from matplotlib import pyplot as plt\n",
    "import numpy as np\n",
    "import cv2\n",
    "import os\n",
    "from PIL import ImageGrab"
   ]
  },
  {
   "cell_type": "markdown",
   "id": "29eeea76-0a47-4f35-ab2a-739e2c3cdaf0",
   "metadata": {},
   "source": [
    "# 1. load model"
   ]
  },
  {
   "cell_type": "code",
   "execution_count": null,
   "id": "95510cd9-bac1-4340-8c41-096440592104",
   "metadata": {},
   "outputs": [],
   "source": [
    "# online pretrain model \n",
    "# model = torch.hub.load('ultralytics/yolov5', 'yolov5s')\n",
    "\n",
    "# custom model load from local\n",
    "model = torch.hub.load('D:/Code/jupyterLab/yolov5', 'custom', path='D:/Code/jupyterLab/yolov5/runs/train/exp4/weights/last.pt', force_reload=True, source='local')\n",
    "\n",
    "# custom model and online hubconf \n",
    "# model = torch.hub.load('ultralytics/yolov5', 'custom', path='yolov5/runs/train/exp15/weights/last.pt', force_reload=True)"
   ]
  },
  {
   "cell_type": "markdown",
   "id": "9bb1131a-05c5-41ce-9e15-65a53fe93b2d",
   "metadata": {},
   "source": [
    "# 2. detecting single image"
   ]
  },
  {
   "cell_type": "code",
   "execution_count": null,
   "id": "e2119f2e-1741-4e30-b2dd-a7f3eefc1fbe",
   "metadata": {
    "tags": []
   },
   "outputs": [],
   "source": [
    "# detecting single image\n",
    "img = 'D:\\\\Code\\\\jupyterLab\\\\obj\\\\val\\\\testImg.jpg'\n",
    "\n",
    "results = model(img)\n",
    "\n",
    "results.print()\n",
    "\n",
    "%matplotlib inline \n",
    "plt.imshow(np.squeeze(results.render()))\n",
    "plt.show()"
   ]
  },
  {
   "cell_type": "markdown",
   "id": "75447d2c-2d6a-41f0-a0de-1f89f81f4a3d",
   "metadata": {},
   "source": [
    "# 3. detecting from camera & vids"
   ]
  },
  {
   "cell_type": "code",
   "execution_count": null,
   "id": "d1454164-9e79-4e00-a641-2eaec359354d",
   "metadata": {},
   "outputs": [],
   "source": [
    "# 0 is first camera, 1 is 2nd camera, \n",
    "# vid = 'test.mp4' #vid link goes this way\n",
    "cap = cv2.VideoCapture(0)\n",
    "while cap.isOpened():\n",
    "    ret, frame = cap.read()\n",
    "    \n",
    "    # Make detections \n",
    "    results = model(frame)\n",
    "    \n",
    "    cv2.imshow('YoloV5 Detecting...', np.squeeze(results.render()))\n",
    "    \n",
    "    if cv2.waitKey(10) & 0xFF == ord('q'):\n",
    "        break\n",
    "cap.release()\n",
    "cv2.destroyAllWindows()"
   ]
  },
  {
   "cell_type": "markdown",
   "id": "38acc127-2564-408a-aa6d-9bf9001b981c",
   "metadata": {},
   "source": [
    "# 4. detecting from screen"
   ]
  },
  {
   "cell_type": "code",
   "execution_count": null,
   "id": "db495e0c-b8ab-4553-9e50-a899ae6efab7",
   "metadata": {},
   "outputs": [],
   "source": [
    "while True:\n",
    "    screen = np.array(ImageGrab.grab(bbox=(0,0,683,708))) # window loc to capture (x y X Y)\n",
    "    results = model(screen)\n",
    "    \n",
    "    screen_rgb = cv2.cvtColor(np.squeeze(results.render()), cv2.COLOR_BGR2RGB)\n",
    "    cv2.imshow('YoloV5 Screen Capture', screen_rgb)\n",
    "    \n",
    "    if cv2.waitKey(25) & 0xFF == ord('q'):\n",
    "        cv2.destroyAllWindows()\n",
    "        break"
   ]
  },
  {
   "cell_type": "markdown",
   "id": "f921a3d0-cf43-4fc4-9b14-91eb08acb990",
   "metadata": {},
   "source": []
  },
  {
   "cell_type": "code",
   "execution_count": null,
   "id": "a891640b-53e4-4dad-aae6-6114a5eac5d5",
   "metadata": {},
   "outputs": [],
   "source": []
  }
 ],
 "metadata": {
  "kernelspec": {
   "display_name": "Python 3 (ipykernel)",
   "language": "python",
   "name": "python3"
  },
  "language_info": {
   "codemirror_mode": {
    "name": "ipython",
    "version": 3
   },
   "file_extension": ".py",
   "mimetype": "text/x-python",
   "name": "python",
   "nbconvert_exporter": "python",
   "pygments_lexer": "ipython3",
   "version": "3.9.7"
  }
 },
 "nbformat": 4,
 "nbformat_minor": 5
}
