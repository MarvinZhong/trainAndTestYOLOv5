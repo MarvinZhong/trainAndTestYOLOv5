{
 "cells": [
  {
   "cell_type": "markdown",
   "id": "40778506-72d8-4e04-a92a-40b9a4eb45ad",
   "metadata": {},
   "source": [
    "# prepare environment"
   ]
  },
  {
   "cell_type": "code",
   "execution_count": null,
   "id": "7ee0f7c3-83f2-4c44-9ba8-f6fc5c050524",
   "metadata": {},
   "outputs": [],
   "source": [
    "!git clone https://github.com/ultralytics/yolov5"
   ]
  },
  {
   "cell_type": "code",
   "execution_count": null,
   "id": "d8423dc2-3c0d-46d6-8e50-9dc7ec585709",
   "metadata": {},
   "outputs": [],
   "source": [
    "!cd yolov5 & pip install -r requirements.txt"
   ]
  },
  {
   "cell_type": "markdown",
   "id": "2d3c44cb-59a6-4fda-a968-71e71689b359",
   "metadata": {
    "tags": []
   },
   "source": [
    "# import modules"
   ]
  },
  {
   "cell_type": "code",
   "execution_count": null,
   "id": "0641be20-2458-45e9-88f4-b74cd2e20b46",
   "metadata": {},
   "outputs": [],
   "source": [
    "import torch\n",
    "from matplotlib import pyplot as plt\n",
    "import numpy as np\n",
    "import cv2\n",
    "import os"
   ]
  },
  {
   "cell_type": "markdown",
   "id": "247a4882-aaf2-41ba-9a8e-1a9acd194216",
   "metadata": {
    "tags": []
   },
   "source": [
    "# datasets structure"
   ]
  },
  {
   "cell_type": "markdown",
   "id": "4c56e839-689a-46f7-95ab-c7de2c5f7930",
   "metadata": {
    "tags": []
   },
   "source": [
    "#### label your images with labelImg (choose YOLO format) or labelME (convert LabelMe JSON to YOLO format with my utilityCodes)"
   ]
  },
  {
   "cell_type": "markdown",
   "id": "c70a4877-e0cf-4c9e-9b5d-756a2a9c37a9",
   "metadata": {
    "tags": []
   },
   "source": [
    "#### Datasets\n",
    "##### - class 0\n",
    "###### img1.jpg\n",
    "###### img1.txt\n",
    "###### img2.jpg\n",
    "###### img2.txt\n",
    "###### ......\n",
    "###### imgN.jpg\n",
    "###### imgN.txt\n",
    "##### - class 1\n",
    "###### img1.jpg\n",
    "###### img1.txt\n",
    "###### img2.jpg\n",
    "###### img2.txt\n",
    "###### ......\n",
    "###### imgN.jpg\n",
    "###### imgN.txt\n",
    "##### - ...\n",
    "##### - class N\n",
    "###### img1.jpg\n",
    "###### img1.txt\n",
    "###### img2.jpg\n",
    "###### img2.txt\n",
    "###### ......\n",
    "###### imgN.jpg\n",
    "###### imgN.txt"
   ]
  },
  {
   "cell_type": "markdown",
   "id": "92d85554-65b4-495c-af72-56868f0dac52",
   "metadata": {},
   "source": [
    "# Train model"
   ]
  },
  {
   "cell_type": "markdown",
   "id": "561ef6b8-9a61-44cf-9454-03a925e3d427",
   "metadata": {},
   "source": [
    "--img (image size in px)\n",
    "--data (path to data.yml) eg: data/coco128.yaml\n",
    "--weights (initial weights path)\n",
    "--workers (max dataloader worker)"
   ]
  },
  {
   "cell_type": "code",
   "execution_count": null,
   "id": "b1405816-b112-4d54-abfc-c86c16305b38",
   "metadata": {},
   "outputs": [],
   "source": [
    "!cd yolov5 && python train.py --img 300 --batch 16 --epochs 100 --data dataset.yml --weights yolov5s.pt --workers 2"
   ]
  },
  {
   "cell_type": "markdown",
   "id": "376f73d2-a4eb-49f7-9ef0-ccb0b01f8322",
   "metadata": {},
   "source": [
    "### look for parse_opt in train.py for more arguments"
   ]
  },
  {
   "cell_type": "code",
   "execution_count": null,
   "id": "60ae67ca-4b9d-4350-9aeb-db043652b0d9",
   "metadata": {},
   "outputs": [],
   "source": []
  }
 ],
 "metadata": {
  "kernelspec": {
   "display_name": "Python 3 (ipykernel)",
   "language": "python",
   "name": "python3"
  },
  "language_info": {
   "codemirror_mode": {
    "name": "ipython",
    "version": 3
   },
   "file_extension": ".py",
   "mimetype": "text/x-python",
   "name": "python",
   "nbconvert_exporter": "python",
   "pygments_lexer": "ipython3",
   "version": "3.9.7"
  }
 },
 "nbformat": 4,
 "nbformat_minor": 5
}
